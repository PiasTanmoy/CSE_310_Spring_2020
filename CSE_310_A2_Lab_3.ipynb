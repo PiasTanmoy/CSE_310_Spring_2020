{
  "nbformat": 4,
  "nbformat_minor": 0,
  "metadata": {
    "colab": {
      "name": "CSE_310_A2_Lab_3.ipynb",
      "provenance": [],
      "collapsed_sections": [],
      "authorship_tag": "ABX9TyOfM0wVpaAZysfakQfL2e1T",
      "include_colab_link": true
    },
    "kernelspec": {
      "name": "python3",
      "display_name": "Python 3"
    }
  },
  "cells": [
    {
      "cell_type": "markdown",
      "metadata": {
        "id": "view-in-github",
        "colab_type": "text"
      },
      "source": [
        "<a href=\"https://colab.research.google.com/github/PiasTanmoy/CSE_310_Spring_2020/blob/master/CSE_310_A2_Lab_3.ipynb\" target=\"_parent\"><img src=\"https://colab.research.google.com/assets/colab-badge.svg\" alt=\"Open In Colab\"/></a>"
      ]
    },
    {
      "cell_type": "markdown",
      "metadata": {
        "id": "SuRyHX1vOOHn",
        "colab_type": "text"
      },
      "source": [
        "**You want to store information about 5 members of your project group**"
      ]
    },
    {
      "cell_type": "code",
      "metadata": {
        "id": "MsF2xNcpNxoz",
        "colab_type": "code",
        "colab": {}
      },
      "source": [
        "s1 = {\n",
        "    \"name\" : \"Mubina\",\n",
        "    'ID' : '18101006',\n",
        "    'email' : '18101006@uap-bd.edu'\n",
        "}\n",
        "\n",
        "s2 = {\n",
        "    \"name\" : \"Sumya\",\n",
        "    'ID' : '18101029',\n",
        "    'email' : '18101029@uap-bd.edu'\n",
        "}\n",
        "\n",
        "s3 = {\n",
        "    \"name\" : \"Sakib\",\n",
        "    'ID' : '18101032',\n",
        "    'email' : '18101032@uap-bd.edu'\n",
        "}\n",
        "\n",
        "group_list = [s1, s2, s3, ., s50 ,.. ,s100]"
      ],
      "execution_count": 1,
      "outputs": []
    },
    {
      "cell_type": "code",
      "metadata": {
        "id": "PXhOy-u0PGs8",
        "colab_type": "code",
        "colab": {
          "base_uri": "https://localhost:8080/",
          "height": 67
        },
        "outputId": "905a17a1-2270-43a2-8dc6-0bc905e7824a"
      },
      "source": [
        "group_list[0:3] "
      ],
      "execution_count": 6,
      "outputs": [
        {
          "output_type": "execute_result",
          "data": {
            "text/plain": [
              "[{'ID': '18101006', 'email': '18101006@uap-bd.edu', 'name': 'Mubina'},\n",
              " {'ID': '18101029', 'email': '18101029@uap-bd.edu', 'name': 'Sumya'},\n",
              " {'ID': '18101032', 'email': '18101032@uap-bd.edu', 'name': 'Sakib'}]"
            ]
          },
          "metadata": {
            "tags": []
          },
          "execution_count": 6
        }
      ]
    },
    {
      "cell_type": "code",
      "metadata": {
        "id": "aD27tou6PJ6j",
        "colab_type": "code",
        "colab": {
          "base_uri": "https://localhost:8080/",
          "height": 34
        },
        "outputId": "724dcc97-995d-4ad9-a1a3-f4554fe73bff"
      },
      "source": [
        "group_list[2]"
      ],
      "execution_count": 3,
      "outputs": [
        {
          "output_type": "execute_result",
          "data": {
            "text/plain": [
              "{'ID': '18101032', 'email': '18101032@uap-bd.edu', 'name': 'Sakib'}"
            ]
          },
          "metadata": {
            "tags": []
          },
          "execution_count": 3
        }
      ]
    },
    {
      "cell_type": "code",
      "metadata": {
        "id": "-u1etE0fP0M0",
        "colab_type": "code",
        "colab": {}
      },
      "source": [
        "gl = {\n",
        "    '18101006' : s1,\n",
        "    '18101029' : s2,\n",
        "    '18101032' : s3\n",
        "}"
      ],
      "execution_count": 8,
      "outputs": []
    },
    {
      "cell_type": "code",
      "metadata": {
        "id": "ycdeNYfdQmxR",
        "colab_type": "code",
        "colab": {}
      },
      "source": [
        "#wrong formation\n",
        "gl2 = {\n",
        "    'Mubina' : s1,\n",
        "    'Sumya' : s2,\n",
        "    'Sakib' : s3\n",
        "}"
      ],
      "execution_count": null,
      "outputs": []
    },
    {
      "cell_type": "code",
      "metadata": {
        "id": "gzmB7TpoQcBD",
        "colab_type": "code",
        "colab": {
          "base_uri": "https://localhost:8080/",
          "height": 168
        },
        "outputId": "74faaa5c-388b-41ae-e908-53df07f231c1"
      },
      "source": [
        "gl"
      ],
      "execution_count": 10,
      "outputs": [
        {
          "output_type": "execute_result",
          "data": {
            "text/plain": [
              "{'18101006': {'ID': '18101006',\n",
              "  'email': '18101006@uap-bd.edu',\n",
              "  'name': 'Mubina'},\n",
              " '18101029': {'ID': '18101029',\n",
              "  'email': '18101029@uap-bd.edu',\n",
              "  'name': 'Sumya'},\n",
              " '18101032': {'ID': '18101032',\n",
              "  'email': '18101032@uap-bd.edu',\n",
              "  'name': 'Sakib'}}"
            ]
          },
          "metadata": {
            "tags": []
          },
          "execution_count": 10
        }
      ]
    },
    {
      "cell_type": "code",
      "metadata": {
        "id": "tazGRGtHQCPh",
        "colab_type": "code",
        "colab": {
          "base_uri": "https://localhost:8080/",
          "height": 34
        },
        "outputId": "1d316ecf-436f-40e5-aac5-8c4a07c52a86"
      },
      "source": [
        "gl['18101029']"
      ],
      "execution_count": 9,
      "outputs": [
        {
          "output_type": "execute_result",
          "data": {
            "text/plain": [
              "{'ID': '18101029', 'email': '18101029@uap-bd.edu', 'name': 'Sumya'}"
            ]
          },
          "metadata": {
            "tags": []
          },
          "execution_count": 9
        }
      ]
    },
    {
      "cell_type": "code",
      "metadata": {
        "id": "I6q3sTNoQxzI",
        "colab_type": "code",
        "colab": {}
      },
      "source": [
        "gl3 = {\n",
        "    18101006 : {\n",
        "                \"name\" : \"Mubina\",\n",
        "                'ID' : '18101006',\n",
        "                'email' : '18101006@uap-bd.edu'\n",
        "                },\n",
        "\n",
        "    18101029 : {\n",
        "                  \"name\" : \"Sumya\",\n",
        "                  'ID' : '18101029',\n",
        "                  'email' : '18101029@uap-bd.edu'\n",
        "              },\n",
        "       \n",
        "    18101032 : {\n",
        "              \"name\" : \"Sakib\",\n",
        "              'ID' : '18101032',\n",
        "              'email' : '18101032@uap-bd.edu'\n",
        "          }\n",
        "       \n",
        "}"
      ],
      "execution_count": 13,
      "outputs": []
    },
    {
      "cell_type": "code",
      "metadata": {
        "id": "3OYedPTgRcv6",
        "colab_type": "code",
        "colab": {
          "base_uri": "https://localhost:8080/",
          "height": 162
        },
        "outputId": "d01f12ea-a054-4225-b5b1-b4bef682cdc9"
      },
      "source": [
        "gl3['18101032']"
      ],
      "execution_count": 14,
      "outputs": [
        {
          "output_type": "error",
          "ename": "KeyError",
          "evalue": "ignored",
          "traceback": [
            "\u001b[0;31m---------------------------------------------------------------------------\u001b[0m",
            "\u001b[0;31mKeyError\u001b[0m                                  Traceback (most recent call last)",
            "\u001b[0;32m<ipython-input-14-3d24ed20feea>\u001b[0m in \u001b[0;36m<module>\u001b[0;34m()\u001b[0m\n\u001b[0;32m----> 1\u001b[0;31m \u001b[0mgl3\u001b[0m\u001b[0;34m[\u001b[0m\u001b[0;34m'18101032'\u001b[0m\u001b[0;34m]\u001b[0m\u001b[0;34m\u001b[0m\u001b[0;34m\u001b[0m\u001b[0m\n\u001b[0m",
            "\u001b[0;31mKeyError\u001b[0m: '18101032'"
          ]
        }
      ]
    },
    {
      "cell_type": "code",
      "metadata": {
        "id": "vHjLffMGRiG3",
        "colab_type": "code",
        "colab": {
          "base_uri": "https://localhost:8080/",
          "height": 34
        },
        "outputId": "3c13840c-e182-4dec-bf3a-a8e4634e9526"
      },
      "source": [
        "gl3[18101032]"
      ],
      "execution_count": 15,
      "outputs": [
        {
          "output_type": "execute_result",
          "data": {
            "text/plain": [
              "{'ID': '18101032', 'email': '18101032@uap-bd.edu', 'name': 'Sakib'}"
            ]
          },
          "metadata": {
            "tags": []
          },
          "execution_count": 15
        }
      ]
    },
    {
      "cell_type": "code",
      "metadata": {
        "id": "FVN-Pd89R28H",
        "colab_type": "code",
        "colab": {
          "base_uri": "https://localhost:8080/",
          "height": 84
        },
        "outputId": "dfc385e4-0ade-46a5-d9fb-531e5e9a81cd"
      },
      "source": [
        "#max\n",
        "a = int(input())\n",
        "b = int(input())\n",
        "c = int(input())\n",
        "\n",
        "if a>b:\n",
        "  if a>c:\n",
        "    print(a)\n",
        "  else:\n",
        "    print(c)\n",
        "elif b>=a:\n",
        "  if b>c:\n",
        "    print(b)\n",
        "  else:\n",
        "    print(c)\n",
        "else:\n",
        "  print(c)"
      ],
      "execution_count": 19,
      "outputs": [
        {
          "output_type": "stream",
          "text": [
            "10\n",
            "52\n",
            "25\n",
            "52\n"
          ],
          "name": "stdout"
        }
      ]
    },
    {
      "cell_type": "code",
      "metadata": {
        "id": "DjOuUR0rSskp",
        "colab_type": "code",
        "colab": {
          "base_uri": "https://localhost:8080/",
          "height": 34
        },
        "outputId": "37c9ea2d-5144-4348-8a3d-1aadede29683"
      },
      "source": [
        "l = [1, 3, 5, 7, 10]\n",
        "l = l[ : 3 ]\n",
        "l "
      ],
      "execution_count": 20,
      "outputs": [
        {
          "output_type": "execute_result",
          "data": {
            "text/plain": [
              "[1, 3, 5]"
            ]
          },
          "metadata": {
            "tags": []
          },
          "execution_count": 20
        }
      ]
    },
    {
      "cell_type": "code",
      "metadata": {
        "id": "f_FYF-fRUBGU",
        "colab_type": "code",
        "colab": {}
      },
      "source": [
        ""
      ],
      "execution_count": 25,
      "outputs": []
    },
    {
      "cell_type": "code",
      "metadata": {
        "id": "7YoapBZ5TdsR",
        "colab_type": "code",
        "colab": {
          "base_uri": "https://localhost:8080/",
          "height": 34
        },
        "outputId": "6521d794-5c21-4c64-bc6a-b3fd16762a39"
      },
      "source": [
        "l = [1, 3, 5, 7, 10]\n",
        "l = l[ : 2] + l[ 4 : ]\n",
        "l "
      ],
      "execution_count": 26,
      "outputs": [
        {
          "output_type": "execute_result",
          "data": {
            "text/plain": [
              "[1, 3, 10]"
            ]
          },
          "metadata": {
            "tags": []
          },
          "execution_count": 26
        }
      ]
    }
  ]
}