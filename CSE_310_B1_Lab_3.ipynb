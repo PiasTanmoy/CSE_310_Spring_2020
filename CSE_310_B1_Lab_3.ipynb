{
  "nbformat": 4,
  "nbformat_minor": 0,
  "metadata": {
    "colab": {
      "name": "CSE_310_B1_Lab_3.ipynb",
      "provenance": [],
      "collapsed_sections": [],
      "authorship_tag": "ABX9TyNQs83QptqH38r/oE9VtzJl",
      "include_colab_link": true
    },
    "kernelspec": {
      "name": "python3",
      "display_name": "Python 3"
    }
  },
  "cells": [
    {
      "cell_type": "markdown",
      "metadata": {
        "id": "view-in-github",
        "colab_type": "text"
      },
      "source": [
        "<a href=\"https://colab.research.google.com/github/PiasTanmoy/CSE_310_Spring_2020/blob/master/CSE_310_B1_Lab_3.ipynb\" target=\"_parent\"><img src=\"https://colab.research.google.com/assets/colab-badge.svg\" alt=\"Open In Colab\"/></a>"
      ]
    },
    {
      "cell_type": "markdown",
      "metadata": {
        "id": "rXbQjFIqEQNJ",
        "colab_type": "text"
      },
      "source": [
        "Name, ID, dept, semester, email -> 3 students"
      ]
    },
    {
      "cell_type": "code",
      "metadata": {
        "id": "kkliwZbPDQL3",
        "colab_type": "code",
        "colab": {}
      },
      "source": [
        "s1 = {\n",
        "    \"name\" : \"Anik\",\n",
        "    \"ID\" : 18101070,\n",
        "    \"dept\" : \"CSE\",\n",
        "    \"semester\" : \"3-1\",\n",
        "    \"email\" : \"18101070@uap-bd.edu\"\n",
        "}"
      ],
      "execution_count": 2,
      "outputs": []
    },
    {
      "cell_type": "code",
      "metadata": {
        "id": "ohY6YB9aErEf",
        "colab_type": "code",
        "colab": {}
      },
      "source": [
        "s2 = {\n",
        "    \"name\" : \"Serajum\",\n",
        "    \"ID\" : 18101068,\n",
        "    \"dept\" : \"CSE\",\n",
        "    \"semester\" : \"3-1\",\n",
        "    \"email\" : \"18101068@uap-bd.edu\"\n",
        "}"
      ],
      "execution_count": 5,
      "outputs": []
    },
    {
      "cell_type": "code",
      "metadata": {
        "id": "QaikuvMbErlm",
        "colab_type": "code",
        "colab": {}
      },
      "source": [
        "s3 = {\n",
        "    \"name\" : \"Jharna\",\n",
        "    \"ID\" : 18101060,\n",
        "    \"dept\" : \"CSE\",\n",
        "    \"semester\" : \"3-1\",\n",
        "    \"email\" : \"18101060@uap-bd.edu\"\n",
        "}"
      ],
      "execution_count": 6,
      "outputs": []
    },
    {
      "cell_type": "code",
      "metadata": {
        "id": "NqQBScp6E4X_",
        "colab_type": "code",
        "colab": {}
      },
      "source": [
        "L = [s1, s2, s3]"
      ],
      "execution_count": 7,
      "outputs": []
    },
    {
      "cell_type": "code",
      "metadata": {
        "id": "-sCedoaDFAB-",
        "colab_type": "code",
        "colab": {
          "base_uri": "https://localhost:8080/",
          "height": 101
        },
        "outputId": "9d1d55f2-7dab-4b6f-a197-4e04142286f7"
      },
      "source": [
        "L[18101070]"
      ],
      "execution_count": 8,
      "outputs": [
        {
          "output_type": "execute_result",
          "data": {
            "text/plain": [
              "{'ID': 18101070,\n",
              " 'dept': 'CSE',\n",
              " 'email': '18101070@uap-bd.edu',\n",
              " 'name': 'Anik',\n",
              " 'semester': '3-1'}"
            ]
          },
          "metadata": {
            "tags": []
          },
          "execution_count": 8
        }
      ]
    },
    {
      "cell_type": "code",
      "metadata": {
        "id": "3NWjwRzHFEI9",
        "colab_type": "code",
        "colab": {}
      },
      "source": [
        "group = {\n",
        "    18101070 : s1,\n",
        "    18101068 : s2,\n",
        "    18101060 : s3\n",
        "}"
      ],
      "execution_count": 9,
      "outputs": []
    },
    {
      "cell_type": "code",
      "metadata": {
        "id": "k4oLrvqoFeLI",
        "colab_type": "code",
        "colab": {
          "base_uri": "https://localhost:8080/",
          "height": 101
        },
        "outputId": "9ae3f962-c8cb-4aaf-bd95-27807ad87e9d"
      },
      "source": [
        "group[18101060]"
      ],
      "execution_count": 10,
      "outputs": [
        {
          "output_type": "execute_result",
          "data": {
            "text/plain": [
              "{'ID': 18101060,\n",
              " 'dept': 'CSE',\n",
              " 'email': '18101060@uap-bd.edu',\n",
              " 'name': 'Jharna',\n",
              " 'semester': '3-1'}"
            ]
          },
          "metadata": {
            "tags": []
          },
          "execution_count": 10
        }
      ]
    },
    {
      "cell_type": "code",
      "metadata": {
        "id": "ENMPWp2AGfnd",
        "colab_type": "code",
        "colab": {}
      },
      "source": [
        "harry_potter = {\n",
        "    \"name\" : \"Harry Potter\",\n",
        "    \"Author\" : \"J. K. Rowling\",\n",
        "    \"price\" : 500\n",
        "}"
      ],
      "execution_count": 11,
      "outputs": []
    },
    {
      "cell_type": "code",
      "metadata": {
        "id": "IaH7JuK2Gs-U",
        "colab_type": "code",
        "colab": {}
      },
      "source": [
        "Lord_of_the_rings = {\n",
        "    \"name\" : \"lord of the rings\",\n",
        "    \"Author\" : \"J. R. R. Tolkien\",\n",
        "    \"price\" : 1500\n",
        "}"
      ],
      "execution_count": 12,
      "outputs": []
    },
    {
      "cell_type": "code",
      "metadata": {
        "id": "kXNYhSTBGGID",
        "colab_type": "code",
        "colab": {}
      },
      "source": [
        "library = {\n",
        "    \"Harry Potter\" : harry_potter,\n",
        "    \"Lord of the rings\" : Lord_of_the_rings\n",
        "}"
      ],
      "execution_count": 14,
      "outputs": []
    },
    {
      "cell_type": "code",
      "metadata": {
        "id": "0QRaidX6G9Fs",
        "colab_type": "code",
        "colab": {
          "base_uri": "https://localhost:8080/",
          "height": 34
        },
        "outputId": "f0a85561-4e75-4523-cc44-c030d524209c"
      },
      "source": [
        "library[\"Harry Potter\"]"
      ],
      "execution_count": 15,
      "outputs": [
        {
          "output_type": "execute_result",
          "data": {
            "text/plain": [
              "{'Author': 'J. K. Rowling', 'name': 'Harry Potter', 'price': 500}"
            ]
          },
          "metadata": {
            "tags": []
          },
          "execution_count": 15
        }
      ]
    }
  ]
}